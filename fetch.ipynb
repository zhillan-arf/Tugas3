{
 "cells": [
  {
   "cell_type": "code",
   "execution_count": null,
   "metadata": {},
   "outputs": [],
   "source": [
    "from alpha_vantage.timeseries import TimeSeries\n",
    "import pandas as pd\n",
    "\n",
    "# Replace 'your_api_key' with your actual Alpha Vantage API key\n",
    "api_key = 'ITL1B9MC4L5G7SEN'\n",
    "ts = TimeSeries(key=api_key, output_format='pandas')\n",
    "\n",
    "# Fetch daily stock data for Siemens (SIE.DE)\n",
    "data, meta_data = ts.get_daily(symbol='SIE.DE', outputsize='full')\n",
    "\n",
    "# Display the data\n",
    "print(data.head())\n"
   ]
  }
 ],
 "metadata": {
  "language_info": {
   "name": "python"
  }
 },
 "nbformat": 4,
 "nbformat_minor": 2
}
